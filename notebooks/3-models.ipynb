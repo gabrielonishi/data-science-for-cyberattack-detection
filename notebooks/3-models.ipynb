{
 "cells": [
  {
   "cell_type": "markdown",
   "metadata": {},
   "source": [
    "# 3 - Model and Evaluation"
   ]
  },
  {
   "cell_type": "markdown",
   "metadata": {},
   "source": [
    "### Imports and Filtered Data Fetch"
   ]
  },
  {
   "cell_type": "code",
   "execution_count": 1,
   "metadata": {},
   "outputs": [],
   "source": [
    "import pathlib\n",
    "import os\n",
    "import pickle\n",
    "import pandas as pd\n",
    "import seaborn as sns\n",
    "import matplotlib.pyplot as plt\n",
    "from sklearn.preprocessing import StandardScaler\n",
    "from sklearn.svm import SVC\n",
    "from sklearn.metrics import classification_report, confusion_matrix"
   ]
  },
  {
   "cell_type": "markdown",
   "metadata": {},
   "source": [
    "**Obs:** Just run the followin cell *once* as it alters the working directory path."
   ]
  },
  {
   "cell_type": "code",
   "execution_count": 2,
   "metadata": {},
   "outputs": [
    {
     "name": "stdout",
     "output_type": "stream",
     "text": [
      "Current Working Directory: /home/gabrielhso/Desktop/northumbria/data-analytics/project-repo\n"
     ]
    }
   ],
   "source": [
    "# Setting project root directory to work with scripts folder\n",
    "project_root = os.path.abspath(os.path.join(os.getcwd(), \"..\"))\n",
    "os.chdir(project_root)\n",
    "\n",
    "print(\"Current Working Directory:\", os.getcwd())    "
   ]
  },
  {
   "cell_type": "code",
   "execution_count": 3,
   "metadata": {},
   "outputs": [
    {
     "data": {
      "text/html": [
       "<div>\n",
       "<style scoped>\n",
       "    .dataframe tbody tr th:only-of-type {\n",
       "        vertical-align: middle;\n",
       "    }\n",
       "\n",
       "    .dataframe tbody tr th {\n",
       "        vertical-align: top;\n",
       "    }\n",
       "\n",
       "    .dataframe thead th {\n",
       "        text-align: right;\n",
       "    }\n",
       "</style>\n",
       "<table border=\"1\" class=\"dataframe\">\n",
       "  <thead>\n",
       "    <tr style=\"text-align: right;\">\n",
       "      <th></th>\n",
       "      <th>Tot Fwd Pkts</th>\n",
       "      <th>Tot Bwd Pkts</th>\n",
       "      <th>Flow Duration</th>\n",
       "      <th>Malicious</th>\n",
       "    </tr>\n",
       "  </thead>\n",
       "  <tbody>\n",
       "    <tr>\n",
       "      <th>2018-02-14 01:00:00</th>\n",
       "      <td>13888</td>\n",
       "      <td>17730</td>\n",
       "      <td>35802826873</td>\n",
       "      <td>0</td>\n",
       "    </tr>\n",
       "    <tr>\n",
       "      <th>2018-02-14 01:01:00</th>\n",
       "      <td>11909</td>\n",
       "      <td>20098</td>\n",
       "      <td>16922074020</td>\n",
       "      <td>0</td>\n",
       "    </tr>\n",
       "    <tr>\n",
       "      <th>2018-02-14 01:02:00</th>\n",
       "      <td>3760</td>\n",
       "      <td>2941</td>\n",
       "      <td>6879804215</td>\n",
       "      <td>0</td>\n",
       "    </tr>\n",
       "    <tr>\n",
       "      <th>2018-02-14 01:03:00</th>\n",
       "      <td>6612</td>\n",
       "      <td>10763</td>\n",
       "      <td>8333718014</td>\n",
       "      <td>0</td>\n",
       "    </tr>\n",
       "    <tr>\n",
       "      <th>2018-02-14 01:04:00</th>\n",
       "      <td>5708</td>\n",
       "      <td>6130</td>\n",
       "      <td>13561940836</td>\n",
       "      <td>0</td>\n",
       "    </tr>\n",
       "  </tbody>\n",
       "</table>\n",
       "</div>"
      ],
      "text/plain": [
       "                     Tot Fwd Pkts  Tot Bwd Pkts  Flow Duration  Malicious\n",
       "2018-02-14 01:00:00         13888         17730    35802826873          0\n",
       "2018-02-14 01:01:00         11909         20098    16922074020          0\n",
       "2018-02-14 01:02:00          3760          2941     6879804215          0\n",
       "2018-02-14 01:03:00          6612         10763     8333718014          0\n",
       "2018-02-14 01:04:00          5708          6130    13561940836          0"
      ]
     },
     "execution_count": 3,
     "metadata": {},
     "output_type": "execute_result"
    }
   ],
   "source": [
    "DATA_DIR = pathlib.Path.cwd() / 'data'\n",
    "PROCESSED_DATA_DIR = DATA_DIR / 'processed'\n",
    "with open(PROCESSED_DATA_DIR / 'filtered.pkl', 'rb') as f:\n",
    "    all_df, ssh_df, ftp_ssh = pickle.load(f)\n",
    "\n",
    "all_df.head()"
   ]
  },
  {
   "cell_type": "code",
   "execution_count": 4,
   "metadata": {},
   "outputs": [],
   "source": [
    "X = all_df[[\"Tot Fwd Pkts\", \"Tot Bwd Pkts\", \"Flow Duration\"]]\n",
    "y = all_df[\"Malicious\"]"
   ]
  },
  {
   "cell_type": "markdown",
   "metadata": {},
   "source": [
    "## Training with all packets"
   ]
  },
  {
   "cell_type": "markdown",
   "metadata": {},
   "source": [
    "### Splitting data for training and testing"
   ]
  },
  {
   "cell_type": "markdown",
   "metadata": {},
   "source": [
    "Exploratory analysis shows that there is a particular time where all packet exchange seems null. Let's identify when this hiatus starts"
   ]
  },
  {
   "cell_type": "code",
   "execution_count": 5,
   "metadata": {},
   "outputs": [
    {
     "data": {
      "text/plain": [
       "(Timestamp('2018-02-14 05:31:00'), Timestamp('2018-02-14 08:27:00'))"
      ]
     },
     "execution_count": 5,
     "metadata": {},
     "output_type": "execute_result"
    }
   ],
   "source": [
    "test = all_df[\n",
    "    (all_df['Tot Fwd Pkts'] == 0) &\n",
    "    (all_df['Tot Bwd Pkts'] == 0)]\n",
    "test.index.min(), test.index.max()"
   ]
  },
  {
   "cell_type": "markdown",
   "metadata": {},
   "source": [
    "Let's use these values as our gap. This way the SSH attack trains the model for identifying the FTP attack."
   ]
  },
  {
   "cell_type": "code",
   "execution_count": 6,
   "metadata": {},
   "outputs": [],
   "source": [
    "EXCHANGE_STOP = '2018-02-14 05:31:00'\n",
    "EXCHANGE_RETURN = '2018-02-14 08:27:00'\n",
    "\n",
    "X_train = X[X.index < EXCHANGE_STOP].copy()\n",
    "y_train = y[X.index < EXCHANGE_STOP].copy()\n",
    "\n",
    "X_test = X[X.index > EXCHANGE_RETURN].copy()\n",
    "y_test = y[X.index > EXCHANGE_RETURN].copy()"
   ]
  },
  {
   "cell_type": "code",
   "execution_count": 7,
   "metadata": {},
   "outputs": [],
   "source": [
    "scaler = StandardScaler()\n",
    "X_train_scaled = scaler.fit_transform(X_train)\n",
    "X_test_scaled = scaler.transform(X_test)"
   ]
  },
  {
   "cell_type": "code",
   "execution_count": 8,
   "metadata": {},
   "outputs": [],
   "source": [
    "svm_model = SVC(kernel=\"linear\", random_state=42, probability=True)\n",
    "svm_model.fit(X_train_scaled, y_train)\n",
    "y_pred = svm_model.predict(X_test_scaled)"
   ]
  },
  {
   "cell_type": "code",
   "execution_count": 9,
   "metadata": {},
   "outputs": [
    {
     "name": "stdout",
     "output_type": "stream",
     "text": [
      "Classification Report:\n",
      "              precision    recall  f1-score   support\n",
      "\n",
      "           0       0.63      0.98      0.77       174\n",
      "           1       0.00      0.00      0.00        98\n",
      "\n",
      "    accuracy                           0.62       272\n",
      "   macro avg       0.32      0.49      0.38       272\n",
      "weighted avg       0.41      0.62      0.49       272\n",
      "\n",
      "\n",
      "Confusion Matrix:\n",
      "[[170   4]\n",
      " [ 98   0]]\n"
     ]
    },
    {
     "data": {
      "image/png": "[encoded data removed]",
      "text/plain": [
       "<Figure size 600x400 with 2 Axes>"
      ]
     },
     "metadata": {},
     "output_type": "display_data"
    }
   ],
   "source": [
    "# Classification Report\n",
    "print(\"Classification Report:\")\n",
    "print(classification_report(y_test, y_pred))\n",
    "\n",
    "# Confusion Matrix\n",
    "cm = confusion_matrix(y_test, y_pred)\n",
    "print(\"\\nConfusion Matrix:\")\n",
    "print(cm)\n",
    "\n",
    "# Visualize the confusion matrix\n",
    "plt.figure(figsize=(6, 4))\n",
    "sns.heatmap(cm, annot=True, fmt=\"d\", cmap=\"Blues\", xticklabels=[\"Non-Malicious\", \"Malicious\"], yticklabels=[\"Non-Malicious\", \"Malicious\"])\n",
    "plt.xlabel(\"Predicted\")\n",
    "plt.ylabel(\"Actual\")\n",
    "plt.title(\"Confusion Matrix\")\n",
    "plt.show()"
   ]
  }
 ],
 "metadata": {
  "kernelspec": {
   "display_name": "cyberattack-detection-6EPQg-xW-py3.12",
   "language": "python",
   "name": "python3"
  },
  "language_info": {
   "codemirror_mode": {
    "name": "ipython",
    "version": 3
   },
   "file_extension": ".py",
   "mimetype": "text/x-python",
   "name": "python",
   "nbconvert_exporter": "python",
   "pygments_lexer": "ipython3",
   "version": "3.12.5"
  }
 },
 "nbformat": 4,
 "nbformat_minor": 2
}
